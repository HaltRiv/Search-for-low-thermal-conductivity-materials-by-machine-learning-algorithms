{
 "cells": [
  {
   "cell_type": "code",
   "execution_count": 1,
   "metadata": {
    "collapsed": true
   },
   "outputs": [
    {
     "ename": "ModuleNotFoundError",
     "evalue": "No module named 'pycifrw'",
     "output_type": "error",
     "traceback": [
      "\u001B[1;31m---------------------------------------------------------------------------\u001B[0m",
      "\u001B[1;31mModuleNotFoundError\u001B[0m                       Traceback (most recent call last)",
      "Cell \u001B[1;32mIn[1], line 1\u001B[0m\n\u001B[1;32m----> 1\u001B[0m \u001B[38;5;28;01mimport\u001B[39;00m  \u001B[38;5;21;01mpycifrw\u001B[39;00m\n",
      "\u001B[1;31mModuleNotFoundError\u001B[0m: No module named 'pycifrw'"
     ]
    }
   ],
   "source": [
    "import  pycifrw\n"
   ]
  },
  {
   "cell_type": "code",
   "execution_count": 13,
   "outputs": [
    {
     "name": "stdout",
     "output_type": "stream",
     "text": [
      "['Ag8SiS6_ICSD_CollCode605722.cif', 'Ag8SiSe6_F-43m_ICSD_CollCode605809.cif', 'Ag8SiSe6_P213_ICSD_CollCode605808.cif', 'Ag9AlSe6_ICSD_CollCode411280 (2).cif', 'Ag9AlSe6_ICSD_CollCode411280.cif', 'BiTe_ICSD_CollCode30525.cif', 'CaGa6Te10_ICSD_CollCode41377.cif', 'Cu Zr2 S4_ICSD_CollCode27027.cif', 'Cu1.8S_ICSD_CollCode41142.cif', 'Cu2CoTi3S8_ICSD_CollCode259622.cif', 'Cu2MnAl_ICSD_CollCode57695.cif', 'Cu2Se_ICSD_CollCode41140.cif', 'Cu2SiTe3_ICSD_CollCode53348.cif', 'Cu2Te(HT)_ICSD_CollCode77055.cif', 'Cu2Te_F-43m_ICSD_CollCode603942.cif', 'Cu3PSe4_ICSD_CollCode95412.cif', 'Cu7PS6_ICSD_CollCode628639(1).cif', 'Cu7PSe6_F -4 3 m_ICSD_CollCode280375.cif', 'Cu7PSe6_P 21 3_ICSD_CollCode280374.cif', 'Cu7PSe6_Pna21_ICSD_CollCode280411.cif', 'Cu8 Ge Se6_ICSD_CollCode69593.cif', 'Cu8 Ge Se6_ICSD_CollCode88660.cif', 'Cu8GeSe6_F-43m_ICSD_CollCode253394.cif', 'Cu8SiS6_ICSD_CollCode24374.cif', 'Cu8SiS6_P213_ICSD_CollCode628847.cif', 'Cu8SiSe6_ICSD_CollCode629069.cif', 'CuCo2S4_ICSD_CollCode52943.cif', 'Ga2Te3_ICSD_CollCode657608.cif', 'GaTe_ICSD_CollCode43328 (2).cif', 'GeTe_R-3m R_ICSD_CollCode601273.cif', 'GeTe_R3m_ICSD_CollCode43202.cif', 'Ge_ICSD_CollCode43422.cif', 'ICSD_CollCode408711_PbGa6Te10.cif', 'LiGa3Te5_ICSD_CollCode151084.cif', 'LiGa3Te5_ICSD_CollCode402881.cif', 'MgAgAs_ICSD_CollCode43819.cif', 'NaAgGa6Te10_ICSD_CollCode402879.cif', 'NaGa3Te5_ICSD_CollCode402329.cif', 'PbIn6Te10_ICSD_CollCode78951.cif', 'SnGa6Te10_ICSD_CollCode635449.cif']\n"
     ]
    }
   ],
   "source": [
    "import os\n",
    "path = r'C:\\Magisterka\\Dane\\cif1'\n",
    "files = os.listdir(path)\n",
    "print(files)"
   ],
   "metadata": {
    "collapsed": false
   }
  },
  {
   "cell_type": "code",
   "execution_count": null,
   "outputs": [],
   "source": [],
   "metadata": {
    "collapsed": false
   }
  }
 ],
 "metadata": {
  "kernelspec": {
   "display_name": "Python 3",
   "language": "python",
   "name": "python3"
  },
  "language_info": {
   "codemirror_mode": {
    "name": "ipython",
    "version": 2
   },
   "file_extension": ".py",
   "mimetype": "text/x-python",
   "name": "python",
   "nbconvert_exporter": "python",
   "pygments_lexer": "ipython2",
   "version": "2.7.6"
  }
 },
 "nbformat": 4,
 "nbformat_minor": 0
}
